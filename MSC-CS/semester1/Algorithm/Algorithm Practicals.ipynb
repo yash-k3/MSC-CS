{
 "cells": [
  {
   "cell_type": "markdown",
   "id": "88ea06c6",
   "metadata": {},
   "source": [
    "# Practical 1"
   ]
  },
  {
   "cell_type": "markdown",
   "id": "29bd0a66",
   "metadata": {},
   "source": [
    "Write a Program for Randomized Selection Algorithm"
   ]
  },
  {
   "cell_type": "code",
   "execution_count": 5,
   "id": "1570b24b",
   "metadata": {},
   "outputs": [
    {
     "name": "stdout",
     "output_type": "stream",
     "text": [
      "1\n",
      "2\n",
      "5\n",
      "7\n",
      "8\n",
      "9\n"
     ]
    }
   ],
   "source": [
    "from random import randrange\n",
    "def partition(x, pivot_index = 0):\n",
    "    i = 0\n",
    "    if pivot_index !=0: x[0],x[pivot_index] = x[pivot_index],x[0]\n",
    "    for j in range(len(x)-1):\n",
    "        if x[j+1] < x[0]:\n",
    "            x[j+1],x[i+1] = x[i+1],x[j+1]\n",
    "            i += 1\n",
    "    x[0],x[i] = x[i],x[0]\n",
    "    return x,i\n",
    "\n",
    "def RSelect(x,k):\n",
    "    if len(x) == 1:\n",
    "        return x[0]\n",
    "    else:\n",
    "        xpart = partition(x,randrange(len(x)))\n",
    "        x = xpart[0]\n",
    "        j = xpart[1]\n",
    "        if j == k:\n",
    "            return x[j]\n",
    "        elif j > k:\n",
    "            return RSelect(x[:j],k)\n",
    "        else:\n",
    "            k = k - j - 1\n",
    "            return RSelect(x[(j+1):], k)\n",
    "\n",
    "x = [2,1,8,5,7,9]\n",
    "for i in range(len(x)):\n",
    "    print(RSelect(x,i))"
   ]
  },
  {
   "cell_type": "markdown",
   "id": "ac3ed04d",
   "metadata": {},
   "source": [
    "# Practical 2"
   ]
  },
  {
   "cell_type": "markdown",
   "id": "8836adcf",
   "metadata": {},
   "source": [
    "Write a Program for Heap Sort Algorithm"
   ]
  },
  {
   "cell_type": "code",
   "execution_count": 6,
   "id": "4eaa4b88",
   "metadata": {},
   "outputs": [
    {
     "name": "stdout",
     "output_type": "stream",
     "text": [
      "Sorted array is\n",
      "5\n",
      "6\n",
      "7\n",
      "11\n",
      "12\n",
      "13\n"
     ]
    }
   ],
   "source": [
    "def heapify(arr, n, i):\n",
    "    largest = i\n",
    "    l = 2 * i + 1\n",
    "    r = 2 * i + 2\n",
    "    if l < n and arr[i] < arr[l]:\n",
    "        largest = l\n",
    "    if r < n and arr[largest] < arr[r]:\n",
    "        largest = r\n",
    "    if largest != i:\n",
    "        arr[i],arr[largest] = arr[largest],arr[i]\n",
    "        heapify(arr, n, largest)\n",
    "        \n",
    "def heapSort(arr):\n",
    "    n = len(arr)\n",
    "    for i in range(n, -1, -1):\n",
    "        heapify(arr, n, i)\n",
    "    for i in range(n-1, 0, -1):\n",
    "        arr[i], arr[0] = arr[0], arr[i]\n",
    "        heapify(arr, i, 0)\n",
    "        \n",
    "arr = [ 12, 11, 13, 5, 6, 7]\n",
    "heapSort(arr)\n",
    "n = len(arr)\n",
    "print (\"Sorted array is\")\n",
    "for i in range(n):\n",
    "    print (\"%d\" %arr[i]),"
   ]
  },
  {
   "cell_type": "markdown",
   "id": "42ab2609",
   "metadata": {},
   "source": [
    "# Practical 3"
   ]
  },
  {
   "cell_type": "markdown",
   "id": "4f35a150",
   "metadata": {},
   "source": [
    "Write a Program to perform Radix Sort Algorithm"
   ]
  },
  {
   "cell_type": "code",
   "execution_count": 12,
   "id": "9154b276",
   "metadata": {},
   "outputs": [
    {
     "name": "stdout",
     "output_type": "stream",
     "text": [
      "5\n",
      "6\n",
      "7\n",
      "11\n",
      "12\n",
      "13\n"
     ]
    }
   ],
   "source": [
    "def countingSort(arr, exp1):\n",
    "    n = len(arr)\n",
    "    output = [0] * (n)\n",
    "    count = [0] * (10)\n",
    "    for i in range(0, n):\n",
    "        index = (arr[i]/exp1)\n",
    "        count[int( (index)%10) ] += 1\n",
    "    for i in range(1,10):\n",
    "        count[i] += count[i-1]\n",
    "    i = n-1\n",
    "    while i>=0:\n",
    "        index = (arr[i]/exp1)\n",
    "        output[ count[int( (index)%10) ] - 1] = arr[i]\n",
    "        count[ int( (index)%10) ] -= 1\n",
    "        i -= 1\n",
    "    i = 0\n",
    "    for i in range(0,len(arr)):\n",
    "        arr[i] = output[i]\n",
    "\n",
    "def radixSort(arr):\n",
    "    max1 = max(arr)\n",
    "    while max1/exp > 0:\n",
    "        countingSort(arr,exp)\n",
    "        exp *= 10\n",
    "        arr = [ 170, 45, 75, 90, 802, 24, 2, 66]\n",
    "        radixSort(arr)\n",
    "\n",
    "for i in range(len(arr)):\n",
    "    print(arr[i]),"
   ]
  },
  {
   "cell_type": "markdown",
   "id": "f1c0b3b9",
   "metadata": {},
   "source": [
    "# Practical 4"
   ]
  },
  {
   "cell_type": "markdown",
   "id": "1ab1224c",
   "metadata": {},
   "source": [
    "Write a Program to Perform Bucket Sort Algorithm"
   ]
  },
  {
   "cell_type": "code",
   "execution_count": 14,
   "id": "9d079c41",
   "metadata": {},
   "outputs": [
    {
     "name": "stdout",
     "output_type": "stream",
     "text": [
      "Sorted Array is\n",
      "[0.1234, 0.3434, 0.565, 0.656, 0.665, 0.897]\n"
     ]
    }
   ],
   "source": [
    "def insertionSort(b):\n",
    "    for i in range(1, len(b)):\n",
    "        up = b[i]\n",
    "        j = i - 1\n",
    "        while j >=0 and b[j] > up:\n",
    "            b[j + 1] = b[j]\n",
    "            j -= 1\n",
    "        b[j + 1] = up\n",
    "    return b\n",
    "\n",
    "def bucketSort(x):\n",
    "    arr = []\n",
    "    slot_num = 10\n",
    "    for i in range(slot_num):\n",
    "        arr.append([])\n",
    "    for j in x:\n",
    "        index_b = int(slot_num * j)\n",
    "        arr[index_b].append(j)\n",
    "    for i in range(slot_num):\n",
    "        arr[i] = insertionSort(arr[i])\n",
    "    k = 0\n",
    "    for i in range(slot_num):\n",
    "        for j in range(len(arr[i])):\n",
    "            x[k] = arr[i][j]\n",
    "            k += 1\n",
    "    return x\n",
    "\n",
    "x = [0.897, 0.565, 0.656, 0.1234, 0.665, 0.3434]\n",
    "print(\"Sorted Array is\")\n",
    "print(bucketSort(x))"
   ]
  },
  {
   "cell_type": "markdown",
   "id": "1dee4d98",
   "metadata": {},
   "source": [
    "# Practical 5"
   ]
  },
  {
   "cell_type": "markdown",
   "id": "1396b446",
   "metadata": {},
   "source": [
    "Write a Program to Perform Folyd-Warshall algorithm"
   ]
  },
  {
   "cell_type": "code",
   "execution_count": 15,
   "id": "52f7df3e",
   "metadata": {},
   "outputs": [
    {
     "name": "stdout",
     "output_type": "stream",
     "text": [
      "Following matrix shows the shortest distances\\ between every pair of vertices\n",
      "      0\t\n",
      "      5\t\n",
      "      8\t\n",
      "      9\t\n",
      "\n",
      "    INF\n",
      "      0\t\n",
      "      3\t\n",
      "      4\t\n",
      "\n",
      "    INF\n",
      "    INF\n",
      "      0\t\n",
      "      1\t\n",
      "\n",
      "    INF\n",
      "    INF\n",
      "    INF\n",
      "      0\t\n",
      "\n"
     ]
    }
   ],
   "source": [
    "V = 4\n",
    "INF = 99999\n",
    "\n",
    "def floydWarshall(graph):\n",
    "\n",
    "    dist = list(map(lambda i :list( map(lambda j : j , i)) , graph))\n",
    "    for k in range(V):\n",
    "        for i in range(V):\n",
    "            for j in range(V):\n",
    "                dist[i][j] = min(dist[i][j] , dist[i][k]+ dist[k][j] )\n",
    "    printSolution(dist)\n",
    "\n",
    "def printSolution(dist):\n",
    "    print( \"Following matrix shows the shortest distances\\ between every pair of vertices\" )\n",
    "    for i in range(V):\n",
    "        for j in range(V):\n",
    "            if(dist[i][j] == INF):\n",
    "                print (\"%7s\" %(\"INF\"))\n",
    "            else:\n",
    "                print (\"%7d\\t\" %(dist[i][j]))\n",
    "            if j == V-1:\n",
    "                print (\"\" )\n",
    "\n",
    "\"\"\"\n",
    "            10\n",
    "       (0)------->(3)\n",
    "        |         /|\\\n",
    "      5 |          |\n",
    "        |          | 1\n",
    "       \\|/         |\n",
    "       (1)------->(2)\n",
    "            3 \n",
    "\"\"\"\n",
    "\n",
    "graph = [   [0,5,INF,10],\n",
    "            [INF,0,3,INF],\n",
    "            [INF, INF, 0, 1],\n",
    "            [INF, INF, INF, 0]\n",
    "        ]\n",
    "floydWarshall(graph);"
   ]
  },
  {
   "cell_type": "markdown",
   "id": "d2436627",
   "metadata": {},
   "source": [
    "# Practical 6"
   ]
  },
  {
   "cell_type": "markdown",
   "id": "f919200c",
   "metadata": {},
   "source": [
    "Write a Program for Counting Sort Algorithm in python"
   ]
  },
  {
   "cell_type": "code",
   "execution_count": 16,
   "id": "12087a5e",
   "metadata": {},
   "outputs": [
    {
     "name": "stdout",
     "output_type": "stream",
     "text": [
      "Sorted character array is eeeefggkkorss\n"
     ]
    }
   ],
   "source": [
    "def countSort(arr):\n",
    "    output = [0 for i in range(256)]\n",
    "    count = [0 for i in range(256)]\n",
    "    ans = [\"\" for _ in arr]\n",
    "    for i in arr:\n",
    "        count[ord(i)] += 1\n",
    "    for i in range(256):\n",
    "        count[i] += count[i-1]\n",
    "    for i in range(len(arr)):\n",
    "        output[count[ord(arr[i])]-1] = arr[i]\n",
    "        count[ord(arr[i])] -= 1\n",
    "    for i in range(len(arr)):\n",
    "        ans[i] = output[i]\n",
    "    return ans\n",
    "arr = \"geeksforgeeks\"\n",
    "ans = countSort(arr)\n",
    "print (\"Sorted character array is %s\" %(\"\".join(ans)))"
   ]
  },
  {
   "cell_type": "markdown",
   "id": "dc181c81",
   "metadata": {},
   "source": [
    "# Practical 7"
   ]
  },
  {
   "cell_type": "markdown",
   "id": "035d4f15",
   "metadata": {},
   "source": [
    "Write a program for Set Covering Problem"
   ]
  },
  {
   "cell_type": "code",
   "execution_count": null,
   "id": "2ed77b45",
   "metadata": {},
   "outputs": [],
   "source": [
    "def set_cover(universe, subsets):\n",
    "    \"\"\"Find a family of subsets that covers the universal set\"\"\"\n",
    "    elements = set(e for s in subsets for e in s)\n",
    "    if elements != universe:\n",
    "        return None\n",
    "    covered = set()\n",
    "    cover = []\n",
    "    while covered != elements:\n",
    "        subset = max(subsets, key=lambda s: len(s - covered))\n",
    "        cover.append(subset)\n",
    "        covered |= subset\n",
    "    \n",
    "    return cover\n",
    "\n",
    "def main():\n",
    "    universe = set(range(1, 11))\n",
    "    subsets = [set([1, 2, 3, 8, 9, 10]),\n",
    "        set([1, 2, 3, 4, 5]),\n",
    "        set([4, 5, 7]),\n",
    "        set([5, 6, 7]),\n",
    "        set([6, 7, 8, 9, 10])]\n",
    "    cover = set_cover(universe, subsets)\n",
    "    print(cover)\n",
    "\n",
    "if __name__ == '__main__':\n",
    "    main()"
   ]
  },
  {
   "cell_type": "markdown",
   "id": "aa5efe84",
   "metadata": {},
   "source": [
    "# Practical 8"
   ]
  },
  {
   "cell_type": "markdown",
   "id": "a7722a59",
   "metadata": {},
   "source": [
    "Write a Program for found a subset with given sum"
   ]
  },
  {
   "cell_type": "code",
   "execution_count": 3,
   "id": "03d7372c",
   "metadata": {},
   "outputs": [
    {
     "name": "stdout",
     "output_type": "stream",
     "text": [
      "No subset with given sum\n"
     ]
    }
   ],
   "source": [
    "def isSubsetSum(set,n, sum) :\n",
    "\n",
    "    if (sum == 0) :\n",
    "        return True\n",
    "    if (n == 0 and sum != 0) :\n",
    "        return False\n",
    "    if (set[n - 1] > sum) :\n",
    "        return isSubsetSum(set, n - 1, sum);\n",
    "    return isSubsetSum(set, n-1, sum) or isSubsetSum(set, n-1, sum-set[n-1])\n",
    "\n",
    "set = [3, 34, 4, 12, 5, 2]\n",
    "\n",
    "sum = 9\n",
    "n = len(set)\n",
    "if (isSubsetSum(set, n, sum) == True) :\n",
    "    print(\"Found a subset with given sum\")\n",
    "else :\n",
    "    print(\"No subset with given sum\")"
   ]
  },
  {
   "cell_type": "code",
   "execution_count": null,
   "id": "359e0efc",
   "metadata": {},
   "outputs": [],
   "source": []
  }
 ],
 "metadata": {
  "kernelspec": {
   "display_name": "Python 3",
   "language": "python",
   "name": "python3"
  },
  "language_info": {
   "codemirror_mode": {
    "name": "ipython",
    "version": 3
   },
   "file_extension": ".py",
   "mimetype": "text/x-python",
   "name": "python",
   "nbconvert_exporter": "python",
   "pygments_lexer": "ipython3",
   "version": "3.8.8"
  }
 },
 "nbformat": 4,
 "nbformat_minor": 5
}

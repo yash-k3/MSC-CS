{
 "cells": [
  {
   "cell_type": "markdown",
   "id": "5ec7f01c",
   "metadata": {},
   "source": [
    "# <center> Probability </center>\n",
    "\n",
    "> Probability is the branch of mathematics concerning numerical descriptions of how likely an event is to occur, or how likely it is that a proposition is true. The probability of an event is a number between 0 and 1, where, roughly speaking, 0 indicates impossibility of the event and 1 indicates certainty. The higher the probability of an event, the more likely it is that the event will occur.\n",
    "\\- [Wikipedia](https://en.wikipedia.org/wiki/Probability)\n",
    "\n",
    "Probability for an event A happening within a set of possible results S is given by:\n",
    "$$P(A) = \\frac{n(A)}{n(S)}$$"
   ]
  },
  {
   "cell_type": "markdown",
   "id": "d102a8a1",
   "metadata": {},
   "source": [
    "##### Q. What is the probability of getting 3 when a fair, six-sided die is rolled? \n",
    "\n",
    "\n",
    "<u>Solution</u>:"
   ]
  },
  {
   "cell_type": "code",
   "execution_count": 1,
   "id": "b83c28a1",
   "metadata": {},
   "outputs": [
    {
     "name": "stdout",
     "output_type": "stream",
     "text": [
      "The probability of getting 3 on a single roll of a six sided die is 0.16666666666666666 or 16.7%\n"
     ]
    }
   ],
   "source": [
    "# Let,\n",
    "# A : Getting 3 when a fair, six-sided die is rolled\n",
    "# S : Sample space generated when a fair, six-sided die is rolled\n",
    "\n",
    "A = {3}\n",
    "S = {1, 2, 3, 4, 5, 6}\n",
    "\n",
    "# Probability of event A (represented here as P_A) is given by:\n",
    "# P(A) = No. of elements in set A / No. of elements in set S\n",
    "# i.e.\n",
    "# P(A) = n(A) / n(S)\n",
    "\n",
    "P_A = len(A) / len(S)\n",
    "print(f\"The probability of getting 3 on a single roll of a six sided die is {P_A} or {round(P_A, 3) * 100}%\")"
   ]
  },
  {
   "cell_type": "markdown",
   "id": "fe0cb20a",
   "metadata": {},
   "source": [
    "##### Q. Calculate the probability of atleast getting one head when a coin is tossed thrice.\n",
    "\n",
    "\n",
    "<u>Solution</u>:"
   ]
  },
  {
   "cell_type": "code",
   "execution_count": 2,
   "id": "5dd8186f",
   "metadata": {},
   "outputs": [
    {
     "name": "stdout",
     "output_type": "stream",
     "text": [
      "The probability of getting atleast one head when a fair coin is tossed thrice is 0.875 or 87.5%\n"
     ]
    }
   ],
   "source": [
    "# Let,\n",
    "# A : Getting atleast one head when a coin is tossed thrice\n",
    "# S : Sample space generated when a fair coin is tossed thrice\n",
    "\n",
    "S = {'HHH', 'HHT', 'HTH', 'THH', 'HTT', 'THT', 'TTH', 'TTT'}\n",
    "A = {'HHH', 'HHT', 'HTH', 'THH', 'HTT', 'THT', 'TTH'}\n",
    "\n",
    "# Probability of event A (represented here as P_A) is given by:\n",
    "# P(A) = No. of elements in set A / No. of elements in set S\n",
    "# i.e.\n",
    "# P(A) = n(A) / n(S)\n",
    "\n",
    "P_A = len(A) / len(S)\n",
    "print(f\"The probability of getting atleast one head when a fair coin is tossed thrice is {P_A} or {round(P_A, 3) * 100}%\")"
   ]
  },
  {
   "cell_type": "markdown",
   "id": "8f1a8629",
   "metadata": {},
   "source": [
    "##### Q. A glass jar contains 5 red, 3 blue and and 2 green jelly beans. If a jelly bean is chosen at random from the jar, what is the probability that it is not blue?\n",
    "\n",
    "\n",
    "<u>Solution:</u>:"
   ]
  },
  {
   "cell_type": "code",
   "execution_count": 3,
   "id": "62ca8ea7",
   "metadata": {},
   "outputs": [
    {
     "name": "stdout",
     "output_type": "stream",
     "text": [
      "The probability of not getting a blue jellybean from the jar is 0.7 or 70.0%\n"
     ]
    }
   ],
   "source": [
    "# Let,\n",
    "# A : Not getting a blue jellybean  when a jellybean is chosen from the jar\n",
    "# S : Sample space generated when a jellybean is chosen from the jar\n",
    "# and R1, R2, R3, R4, R5, B1, B2, B3, G1 and G2 represent the five red, 3 blue and 2 green jellybeans\n",
    "# respectively.\n",
    "\n",
    "A = {'R1', 'R2', 'R3', 'R4', 'R5', 'G1', 'G2'}\n",
    "S = {'R1', 'R2', 'R3', 'R4', 'R5', 'B1', 'B2', 'B3', 'G1', 'G2'}\n",
    "\n",
    "# Probability of event A (represented here as P_A) is given by:\n",
    "# P(A) = No. of elements in set A / No. of elements in set S\n",
    "# i.e.\n",
    "# P(A) = n(A) / n(S)\n",
    "\n",
    "P_A = len(A) / len(S)\n",
    "print(f\"The probability of not getting a blue jellybean from the jar is {P_A} or {round(P_A, 3) * 100}%\")"
   ]
  },
  {
   "cell_type": "markdown",
   "id": "f7012f54",
   "metadata": {},
   "source": [
    "## <center>Independent and Dependent events</center>\n",
    "\n",
    "> Independence is a fundamental notion in probability theory, as in statistics and the theory of stochastic processes.\n",
    ">\n",
    "> Two events are independent, statistically independent, or stochastically independent if the occurrence of one does not affect the probability of occurrence of the other (equivalently, does not affect the odds). Similarly, two random variables are independent if the realization of one does not affect the probability distribution of the other.\n",
    " \\- [Wikipedia](https://en.wikipedia.org/wiki/Independence_(probability_theory))"
   ]
  },
  {
   "cell_type": "markdown",
   "id": "872191ba",
   "metadata": {},
   "source": [
    "##### Q. If the probability that a person A will be alive after 20 years is 0.7 and the probability that person B will be alive after 20 years is 0.5, what is the probability that they will both be alive after 20 years?\n",
    "\n",
    "\n",
    "<u>Solution:</u>"
   ]
  },
  {
   "cell_type": "code",
   "execution_count": 4,
   "id": "895ae912",
   "metadata": {},
   "outputs": [
    {
     "name": "stdout",
     "output_type": "stream",
     "text": [
      "Probability that both A and B will be alive after 20 years is 0.35 or 35.0%\n"
     ]
    }
   ],
   "source": [
    "# Let,\n",
    "# A : Person A is alive after 20 yrs\n",
    "# B : Person B is alive after 20 yrs\n",
    "\n",
    "# Given:\n",
    "# P(A) = 0.7\n",
    "# P(B) = 0.5\n",
    "P_A = 0.7\n",
    "P_B = 0.5\n",
    "\n",
    "# As the lives of A and B do not depend on each other, we conclude that events A and B are independent\n",
    "# Required probability is P(A n B) = P(A) * P(B)\n",
    "\n",
    "P_A_and_B = P_A * P_B\n",
    "print(f\"Probability that both A and B will be alive after 20 years is {P_A_and_B} or {round(P_A_and_B, 3) * 100}%\")"
   ]
  },
  {
   "cell_type": "markdown",
   "id": "358ba23b",
   "metadata": {},
   "source": [
    "### Note:\n",
    "1. If we want the probability of event A ***and*** event B then, $$P(A \\space and \\space B) = P(A)\\cdot{P(B)}$$\n",
    "\n",
    "\n",
    "2. If we want the probability of event A ***or*** event B then, $$P(A\\space or \\space B) = P(A) + {P(B)}$$"
   ]
  },
  {
   "cell_type": "markdown",
   "id": "4c65fa9f",
   "metadata": {},
   "source": [
    "##### Q. A fair die is tossed twice. Find the probability of getting a 4 or 5 on first toss and a 1, 2 or 3 in the second toss.\n",
    "\n",
    "\n",
    "<u>Solution:</u>"
   ]
  },
  {
   "cell_type": "code",
   "execution_count": 5,
   "id": "b9343167",
   "metadata": {},
   "outputs": [
    {
     "name": "stdout",
     "output_type": "stream",
     "text": [
      "Probability that 4 or 5 will appear on first roll and 1, 2 or 3 will appear on second roll is  0.1111111111111111 or 11.1%\n"
     ]
    }
   ],
   "source": [
    "# Let,\n",
    "# A : Getting a 4 or 5 on a roll\n",
    "# B : Getting a 1, 2 or 3 on a roll\n",
    "# S : Sample space generated when a die is rolled once.\n",
    "\n",
    "A = {4, 5}\n",
    "B = {1, 2, 3}\n",
    "S = {1, 2, 3, 4, 5, 6}\n",
    "\n",
    "# Probability of event A (represented here as P_A) is given by:\n",
    "# P(A) = No. of elements in set A / No. of elements in set S\n",
    "# i.e.\n",
    "# P(A) = n(A) / n(S)\n",
    "P_A = len(A) / len(S)\n",
    "P_B = len(A) / len(S)\n",
    "\n",
    "# Required probability is P(A and B)\n",
    "P_A_and_B = P_A * P_B\n",
    "print(f\"Probability that 4 or 5 will appear on first roll and 1, 2 or 3 will appear on second roll is \", end = \" \")\n",
    "print(f\"{P_A_and_B} or {round(P_A_and_B, 3) * 100}%\")"
   ]
  },
  {
   "cell_type": "markdown",
   "id": "543e4ce8",
   "metadata": {},
   "source": [
    "##### Q. A bag contains 5 white marbles, 3 black marbles and 2 green marbles. In each draw, a marble is drawn from the bag and not replaced. In three draws, find the probability of obtaining white, black and green in that order.\n",
    "\n",
    "\n",
    "<u>Solution:</u>"
   ]
  },
  {
   "cell_type": "code",
   "execution_count": 6,
   "id": "318e5f67",
   "metadata": {},
   "outputs": [
    {
     "name": "stdout",
     "output_type": "stream",
     "text": [
      "Probability that the marbles will come out in the order white, black and green is  0.041666666666666664 or 4.2%\n"
     ]
    }
   ],
   "source": [
    "# Let,\n",
    "# A : White marble is drawn\n",
    "# B : Black marble is drawn after event A\n",
    "# C : Green marble is drawn after event B\n",
    "# S : Total marbles after each event (currently 5 + 3 + 2 i.e. 10)\n",
    "\n",
    "n_A = 5\n",
    "n_B = 3\n",
    "n_C = 2\n",
    "n_S = 10\n",
    "\n",
    "# Probability of event A (represented here as P_A) is given by:\n",
    "# P(A) = No. of elements in set A / No. of elements in set S\n",
    "# i.e.\n",
    "# P(A) = n(A) / n(S)\n",
    "\n",
    "P_A = n_A / n_S\n",
    "\n",
    "# As the drawn marble is not replaced, the number of marbles in the bag reduces by 1\n",
    "n_S -= 1\n",
    "P_B = n_B / n_S\n",
    "\n",
    "# As the drawn marble is not replaced, the number of marbles in the bag reduces by 1\n",
    "n_S -= 1\n",
    "P_C = n_C / n_S\n",
    "\n",
    "# Required probability is P(A and B and C) = P(A) * P(B) * P(C)\n",
    "P_A_and_B_and_C = P_A * P_B * P_C\n",
    "print(f\"Probability that the marbles will come out in the order white, black and green is \", end = \" \")\n",
    "print(f\"{P_A_and_B_and_C} or {round(P_A_and_B_and_C, 3) * 100}%\")"
   ]
  },
  {
   "cell_type": "markdown",
   "id": "979160eb",
   "metadata": {},
   "source": [
    "##### Q. Find the probability of drawing a heart or a club from a shuffled deck of cards.\n",
    "\n",
    "\n",
    "<u>Solution:</u>"
   ]
  },
  {
   "cell_type": "code",
   "execution_count": 7,
   "id": "8d36e54e",
   "metadata": {},
   "outputs": [
    {
     "name": "stdout",
     "output_type": "stream",
     "text": [
      "Probability of getting a heart or a club card is 0.5 or 50.0%\n"
     ]
    }
   ],
   "source": [
    "# Let,\n",
    "# A : Drawing a heart card from the deck\n",
    "# B : Drawing a club card from the deck\n",
    "# S : Sample space generated from a deck of 52 cards\n",
    "\n",
    "# We know that there are exacty 13 heart and 13 club cards in a deck of 52 cards\n",
    "n_A = 13\n",
    "n_B = 13\n",
    "n_S = 52\n",
    "\n",
    "# Probability of event A (represented here as P_A) is given by:\n",
    "# P(A) = No. of elements in set A / No. of elements in set S\n",
    "# i.e.\n",
    "# P(A) = n(A) / n(S)\n",
    "P_A = n_A / n_S\n",
    "P_B = n_B / n_S\n",
    "\n",
    "# Required probability is P(A or B) = P(A) + P(B)\n",
    "P_A_or_B = P_A + P_B\n",
    "print(f\"Probability of getting a heart or a club card is {P_A_or_B} or {round(P_A_or_B, 3) * 100}%\")"
   ]
  },
  {
   "cell_type": "markdown",
   "id": "9a1d07a6",
   "metadata": {},
   "source": [
    "##### Q. Find the probability of drawing an ace, a king or a queen from a deck of cards\n",
    "\n",
    "\n",
    "<u>Solution:</u>"
   ]
  },
  {
   "cell_type": "code",
   "execution_count": 8,
   "id": "68d46ae5",
   "metadata": {},
   "outputs": [
    {
     "name": "stdout",
     "output_type": "stream",
     "text": [
      "Probability of getting an ace, king or queen card is 0.23076923076923078 or 23.1%\n"
     ]
    }
   ],
   "source": [
    "# Let,\n",
    "# A : Drawing an ace from the deck\n",
    "# B : Drawing a king from the deck\n",
    "# C : Drawing a queen from the deck\n",
    "# S : Sample space generated from a deck of 52 cards\n",
    "\n",
    "# We know that there are exacty 4 aces, 4 kings and 4 queen cards in a deck of 52 cards\n",
    "n_A = 4\n",
    "n_B = 4\n",
    "n_C = 4\n",
    "n_S = 52\n",
    "\n",
    "# Probability of event A (represented here as P_A) is given by:\n",
    "# P(A) = No. of elements in set A / No. of elements in set S\n",
    "# i.e.\n",
    "# P(A) = n(A) / n(S)\n",
    "P_A = n_A / n_S\n",
    "P_B = n_B / n_S\n",
    "P_C = n_C / n_S\n",
    "\n",
    "# Required probability is P(A or B or C) = P(A) + P(B) + P(C)\n",
    "P_A_or_B_or_C = P_A + P_B + P_C\n",
    "print(f\"Probability of getting an ace, king or queen card is {P_A_or_B_or_C} or {round(P_A_or_B_or_C, 3) * 100}%\")"
   ]
  },
  {
   "cell_type": "markdown",
   "id": "9e7d7987",
   "metadata": {},
   "source": [
    "### <center> If events A and B are not mutually exclusive then: </center>\n",
    "\n",
    "\n",
    "$$P(A \\space or \\space B) = P(A \\cup B) = P(A) + P(B) - P(A \\cap B)$$"
   ]
  },
  {
   "cell_type": "markdown",
   "id": "9c768260",
   "metadata": {},
   "source": [
    "##### Q. Find the probability of drawing an heart or an ace from a deck of cards.\n",
    "\n",
    "<u>Solution:</u>"
   ]
  },
  {
   "cell_type": "code",
   "execution_count": 9,
   "id": "1d5d9e68",
   "metadata": {},
   "outputs": [
    {
     "name": "stdout",
     "output_type": "stream",
     "text": [
      "Probability of getting a heart or ace card is 0.3076923076923077 or 30.8%\n"
     ]
    }
   ],
   "source": [
    "# Let,\n",
    "# A : Drawing a heart card from the deck\n",
    "# B : Drawing a ace card from the deck\n",
    "# S : Sample space generated from a deck of 52 cards\n",
    "\n",
    "# We know that there are exacty 13 hearts and 4 aces in a deck of 52 cards with one common card (i.e. the ace of hearts)\n",
    "n_A = 13\n",
    "n_B = 4\n",
    "n_A_n_B = 1\n",
    "n_S = 52\n",
    "\n",
    "# Probability of event A (represented here as P_A) is given by:\n",
    "# P(A) = No. of elements in set A / No. of elements in set S\n",
    "# i.e.\n",
    "# P(A) = n(A) / n(S)\n",
    "P_A = n_A / n_S\n",
    "P_B = n_B / n_S\n",
    "P_A_n_B = n_A_n_B / n_S\n",
    "\n",
    "# Required probability is P(A U B) = P(A) + P(B) - P(A n B)\n",
    "P_A_U_B = P_A + P_B - P_A_n_B\n",
    "print(f\"Probability of getting a heart or ace card is {P_A_U_B} or {round(P_A_U_B, 3) * 100}%\")"
   ]
  },
  {
   "cell_type": "markdown",
   "id": "26a830f9",
   "metadata": {},
   "source": [
    "## <center>Complementary Events</center>\n",
    "\n",
    "> In probability theory, the complement of any event A is the event (not A), i.e. the event that A does not occur.The event A and its complement (not A) are mutually exclusive and exhaustive. Generally, there is only one event B such that A and B are both mutually exclusive and exhaustive; that event is the complement of A. The complement of an event A is usually denoted as A', A<sup>c</sup>.\n",
    " \\- [Wikipedia](https://en.wikipedia.org/wiki/Complementary_event)\n",
    "\n",
    "That is, for an event A the complement A<sup>c</sup> (or A') is:\n",
    "$$P(A^{c}) = 1 - P(A)$$"
   ]
  },
  {
   "cell_type": "markdown",
   "id": "994fb992",
   "metadata": {},
   "source": [
    "##### Q. What is the probability of not getting 5 when a fair die is thrown?\n",
    "\n",
    "\n",
    "<u>Solution:</u>"
   ]
  },
  {
   "cell_type": "code",
   "execution_count": 10,
   "id": "a6df4263",
   "metadata": {},
   "outputs": [
    {
     "name": "stdout",
     "output_type": "stream",
     "text": [
      "The probability of not getting 5 on a single roll of a six sided die is 0.8333333333333334 or 83.3%\n"
     ]
    }
   ],
   "source": [
    "# Let,\n",
    "# A : Getting 5 when a fair, six-sided die is rolled\n",
    "# S : Sample space generated when a fair, six-sided die is rolled\n",
    "\n",
    "A = {5}\n",
    "S = {1, 2, 3, 4, 5, 6}\n",
    "\n",
    "# Probability of event A (represented here as P_A) is given by:\n",
    "# P(A) = No. of elements in set A / No. of elements in set S\n",
    "# i.e.\n",
    "# P(A) = n(A) / n(S)\n",
    "\n",
    "P_A = len(A) / len(S)\n",
    "\n",
    "# Required probability is P(A') where A' is the complement of event A (represented in code as P_A_c)\n",
    "P_A_c = 1 - P_A\n",
    "print(f\"The probability of not getting 5 on a single roll of a six sided die is {P_A_c} or {round(P_A_c, 3) * 100}%\")"
   ]
  },
  {
   "cell_type": "markdown",
   "id": "4f69d4ff",
   "metadata": {},
   "source": [
    "## <center>Conditional Probability</center>\n",
    "\n",
    "> In probability theory, conditional probability is a measure of the probability of an event occurring, given that another event (by assumption, presumption, assertion or evidence) has already occurred. If the event of interest is A and the event B is known or assumed to have occurred, \"the conditional probability of A given B\", or \"the probability of A under the condition B\", is usually written as P(A|B) or occasionally P<sub>B</sub>(A). This can also be understood as the fraction of probability B that intersects with A.\n",
    " \\- [Wikipedia](https://en.wikipedia.org/wiki/Conditional_probability)\n",
    "\n",
    "\n",
    "The conditional probability of A given B is:\n",
    "$$P(A|B) = \\frac{P(A\\cap{B})}{P(B)}$$"
   ]
  },
  {
   "cell_type": "markdown",
   "id": "e8fdb994",
   "metadata": {},
   "source": [
    "##### Q. Determine the probability of a student getting 80% or more marks given that he/she has been absent for more than 10 classes. Use the student-mat.csv file for the data. (Consider subject G3)\n",
    "\n",
    "\n",
    "<u>Prerequisites:</u>"
   ]
  },
  {
   "cell_type": "markdown",
   "id": "af6db52e",
   "metadata": {},
   "source": [
    "1. Load the CSV file and convert it into a dataframe. Check whether the dataframe is created by viewing few rows."
   ]
  },
  {
   "cell_type": "code",
   "execution_count": 2,
   "id": "950bd99a",
   "metadata": {},
   "outputs": [
    {
     "data": {
      "text/html": [
       "<div>\n",
       "<style scoped>\n",
       "    .dataframe tbody tr th:only-of-type {\n",
       "        vertical-align: middle;\n",
       "    }\n",
       "\n",
       "    .dataframe tbody tr th {\n",
       "        vertical-align: top;\n",
       "    }\n",
       "\n",
       "    .dataframe thead th {\n",
       "        text-align: right;\n",
       "    }\n",
       "</style>\n",
       "<table border=\"1\" class=\"dataframe\">\n",
       "  <thead>\n",
       "    <tr style=\"text-align: right;\">\n",
       "      <th></th>\n",
       "      <th>school</th>\n",
       "      <th>sex</th>\n",
       "      <th>age</th>\n",
       "      <th>address</th>\n",
       "      <th>famsize</th>\n",
       "      <th>Pstatus</th>\n",
       "      <th>Medu</th>\n",
       "      <th>Fedu</th>\n",
       "      <th>Mjob</th>\n",
       "      <th>Fjob</th>\n",
       "      <th>...</th>\n",
       "      <th>famrel</th>\n",
       "      <th>freetime</th>\n",
       "      <th>goout</th>\n",
       "      <th>Dalc</th>\n",
       "      <th>Walc</th>\n",
       "      <th>health</th>\n",
       "      <th>absences</th>\n",
       "      <th>G1</th>\n",
       "      <th>G2</th>\n",
       "      <th>G3</th>\n",
       "    </tr>\n",
       "  </thead>\n",
       "  <tbody>\n",
       "    <tr>\n",
       "      <th>0</th>\n",
       "      <td>GP</td>\n",
       "      <td>F</td>\n",
       "      <td>18</td>\n",
       "      <td>U</td>\n",
       "      <td>GT3</td>\n",
       "      <td>A</td>\n",
       "      <td>4</td>\n",
       "      <td>4</td>\n",
       "      <td>at_home</td>\n",
       "      <td>teacher</td>\n",
       "      <td>...</td>\n",
       "      <td>4</td>\n",
       "      <td>3</td>\n",
       "      <td>4</td>\n",
       "      <td>1</td>\n",
       "      <td>1</td>\n",
       "      <td>3</td>\n",
       "      <td>6</td>\n",
       "      <td>5</td>\n",
       "      <td>6</td>\n",
       "      <td>6</td>\n",
       "    </tr>\n",
       "    <tr>\n",
       "      <th>1</th>\n",
       "      <td>GP</td>\n",
       "      <td>F</td>\n",
       "      <td>17</td>\n",
       "      <td>U</td>\n",
       "      <td>GT3</td>\n",
       "      <td>T</td>\n",
       "      <td>1</td>\n",
       "      <td>1</td>\n",
       "      <td>at_home</td>\n",
       "      <td>other</td>\n",
       "      <td>...</td>\n",
       "      <td>5</td>\n",
       "      <td>3</td>\n",
       "      <td>3</td>\n",
       "      <td>1</td>\n",
       "      <td>1</td>\n",
       "      <td>3</td>\n",
       "      <td>4</td>\n",
       "      <td>5</td>\n",
       "      <td>5</td>\n",
       "      <td>6</td>\n",
       "    </tr>\n",
       "    <tr>\n",
       "      <th>2</th>\n",
       "      <td>GP</td>\n",
       "      <td>F</td>\n",
       "      <td>15</td>\n",
       "      <td>U</td>\n",
       "      <td>LE3</td>\n",
       "      <td>T</td>\n",
       "      <td>1</td>\n",
       "      <td>1</td>\n",
       "      <td>at_home</td>\n",
       "      <td>other</td>\n",
       "      <td>...</td>\n",
       "      <td>4</td>\n",
       "      <td>3</td>\n",
       "      <td>2</td>\n",
       "      <td>2</td>\n",
       "      <td>3</td>\n",
       "      <td>3</td>\n",
       "      <td>10</td>\n",
       "      <td>7</td>\n",
       "      <td>8</td>\n",
       "      <td>10</td>\n",
       "    </tr>\n",
       "  </tbody>\n",
       "</table>\n",
       "<p>3 rows × 33 columns</p>\n",
       "</div>"
      ],
      "text/plain": [
       "  school sex  age address famsize Pstatus  Medu  Fedu     Mjob     Fjob  ...  \\\n",
       "0     GP   F   18       U     GT3       A     4     4  at_home  teacher  ...   \n",
       "1     GP   F   17       U     GT3       T     1     1  at_home    other  ...   \n",
       "2     GP   F   15       U     LE3       T     1     1  at_home    other  ...   \n",
       "\n",
       "  famrel freetime  goout  Dalc  Walc health absences G1 G2  G3  \n",
       "0      4        3      4     1     1      3        6  5  6   6  \n",
       "1      5        3      3     1     1      3        4  5  5   6  \n",
       "2      4        3      2     2     3      3       10  7  8  10  \n",
       "\n",
       "[3 rows x 33 columns]"
      ]
     },
     "execution_count": 2,
     "metadata": {},
     "output_type": "execute_result"
    }
   ],
   "source": [
    "import pandas as pd\n",
    "import numpy as np\n",
    "\n",
    "data_frame = pd.read_csv(r'C:\\Users\\acer\\Desktop\\Sem 1\\data science\\DataSet\\student-mat.csv')\n",
    "data_frame.head(3)"
   ]
  },
  {
   "cell_type": "markdown",
   "id": "3baba69f",
   "metadata": {},
   "source": [
    "2. We are concerned with the columns, absences and G3 (final grade from 0 to 20). Let us create a couple new boolean columns based on these columns to make our lives easier.\n",
    "\n",
    "    i)  Add a boolean column called grade_A noting if a student has got more than 80% marks or not.\n",
    "    \n",
    "    ii) Add a boolean column called high_absentee noting if a student has missed 10 or more classes."
   ]
  },
  {
   "cell_type": "code",
   "execution_count": 12,
   "id": "bf4c6ecb",
   "metadata": {},
   "outputs": [],
   "source": [
    "data_frame['grade_A'] = np.where(data_frame['G3'] * 5 >= 80, 1, 0)"
   ]
  },
  {
   "cell_type": "code",
   "execution_count": 13,
   "id": "6bbebc62",
   "metadata": {},
   "outputs": [],
   "source": [
    "data_frame['high_absentee'] = np.where(data_frame['absences']  >= 10, 1, 0)"
   ]
  },
  {
   "cell_type": "markdown",
   "id": "36bd7773",
   "metadata": {},
   "source": [
    "3. Add an extra column to make building the pivot table easier."
   ]
  },
  {
   "cell_type": "code",
   "execution_count": 14,
   "id": "218bae34",
   "metadata": {},
   "outputs": [],
   "source": [
    "data_frame['count'] = 1"
   ]
  },
  {
   "cell_type": "markdown",
   "id": "2e3f5ef0",
   "metadata": {},
   "source": [
    "4. Drop all columns we don't care about"
   ]
  },
  {
   "cell_type": "code",
   "execution_count": 15,
   "id": "d940a027",
   "metadata": {},
   "outputs": [
    {
     "data": {
      "text/html": [
       "<div>\n",
       "<style scoped>\n",
       "    .dataframe tbody tr th:only-of-type {\n",
       "        vertical-align: middle;\n",
       "    }\n",
       "\n",
       "    .dataframe tbody tr th {\n",
       "        vertical-align: top;\n",
       "    }\n",
       "\n",
       "    .dataframe thead th {\n",
       "        text-align: right;\n",
       "    }\n",
       "</style>\n",
       "<table border=\"1\" class=\"dataframe\">\n",
       "  <thead>\n",
       "    <tr style=\"text-align: right;\">\n",
       "      <th></th>\n",
       "      <th>grade_A</th>\n",
       "      <th>high_absentee</th>\n",
       "      <th>count</th>\n",
       "    </tr>\n",
       "  </thead>\n",
       "  <tbody>\n",
       "    <tr>\n",
       "      <th>0</th>\n",
       "      <td>0</td>\n",
       "      <td>0</td>\n",
       "      <td>1</td>\n",
       "    </tr>\n",
       "    <tr>\n",
       "      <th>1</th>\n",
       "      <td>0</td>\n",
       "      <td>0</td>\n",
       "      <td>1</td>\n",
       "    </tr>\n",
       "    <tr>\n",
       "      <th>2</th>\n",
       "      <td>0</td>\n",
       "      <td>1</td>\n",
       "      <td>1</td>\n",
       "    </tr>\n",
       "    <tr>\n",
       "      <th>3</th>\n",
       "      <td>0</td>\n",
       "      <td>0</td>\n",
       "      <td>1</td>\n",
       "    </tr>\n",
       "    <tr>\n",
       "      <th>4</th>\n",
       "      <td>0</td>\n",
       "      <td>0</td>\n",
       "      <td>1</td>\n",
       "    </tr>\n",
       "  </tbody>\n",
       "</table>\n",
       "</div>"
      ],
      "text/plain": [
       "   grade_A  high_absentee  count\n",
       "0        0              0      1\n",
       "1        0              0      1\n",
       "2        0              1      1\n",
       "3        0              0      1\n",
       "4        0              0      1"
      ]
     },
     "execution_count": 15,
     "metadata": {},
     "output_type": "execute_result"
    }
   ],
   "source": [
    "data_frame = data_frame[['grade_A', 'high_absentee', 'count']]\n",
    "data_frame.head()"
   ]
  },
  {
   "cell_type": "markdown",
   "id": "f0fbc29e",
   "metadata": {},
   "source": [
    "5. Generate the pivot table."
   ]
  },
  {
   "cell_type": "code",
   "execution_count": 16,
   "id": "3d241948",
   "metadata": {},
   "outputs": [
    {
     "name": "stdout",
     "output_type": "stream",
     "text": [
      "high_absentee    0   1\n",
      "grade_A               \n",
      "0              277  78\n",
      "1               35   5\n"
     ]
    }
   ],
   "source": [
    "pivot_table = pd.pivot_table(data_frame, values = 'count', index = ['grade_A'], columns = ['high_absentee'], aggfunc = np.size, fill_value = 0)\n",
    "print(pivot_table)"
   ]
  },
  {
   "cell_type": "markdown",
   "id": "eeb67f48",
   "metadata": {},
   "source": [
    "<u>Solution</u>:"
   ]
  },
  {
   "cell_type": "code",
   "execution_count": 17,
   "id": "225440da",
   "metadata": {},
   "outputs": [
    {
     "name": "stdout",
     "output_type": "stream",
     "text": [
      "Proabability of a student getting atleast than 80% marks is 0.10126582278481013 or 10.100000000000001%\n",
      "Proabability of a student being absent for atleast 10 classes is 0.21012658227848102 or 21.0%\n",
      "Proabability of a student getting atleast than 80% marks and being absent for atleast 10 classes is 0.10126582278481013 or 10.13%\n",
      "Proabability of a student getting atleast than 80% marks given that he/she was absent for atleast 10 classes is 0.060240963855421686 or 6.02%\n"
     ]
    }
   ],
   "source": [
    "# Let,\n",
    "# A : Event that the student gets atleast than 80% marks\n",
    "# B : Event that the student is absent for 10 or more classes.\n",
    "# S : Total students\n",
    "\n",
    "# Given,\n",
    "n_A = 35 + 5\n",
    "n_B = 78 + 5\n",
    "n_A_n_B = 5\n",
    "n_S = 277 + 78 + 35 + 5\n",
    "\n",
    "# Using marginal probability,\n",
    "P_A = n_A / n_S\n",
    "P_B = n_B / n_S\n",
    "P_A_n_B = n_A_n_B / n_S\n",
    "\n",
    "print(f\"Proabability of a student getting atleast than 80% marks is {P_A} or {round(P_A, 3) * 100}%\")\n",
    "print(f\"Proabability of a student being absent for atleast 10 classes is {P_B} or {round(P_B, 3) * 100}%\")\n",
    "print(f\"Proabability of a student getting atleast than 80% marks and being absent for atleast 10 classes is\", end = \" \")\n",
    "print(f\"{P_A} or {round(P_A, 4) * 100}%\", end = \"\\n\")\n",
    "\n",
    "# Required probability is P(A | B) = P(A n B) / P(B)\n",
    "P_A_given_B = P_A_n_B / P_B\n",
    "print(f\"Proabability of a student getting atleast than 80% marks given that he/she was absent for\", end = \" \")\n",
    "print(f\"atleast 10 classes is {P_A_given_B} or {round(P_A_given_B, 4) * 100}%\")"
   ]
  },
  {
   "cell_type": "code",
   "execution_count": null,
   "id": "d75d13cf",
   "metadata": {},
   "outputs": [],
   "source": []
  }
 ],
 "metadata": {
  "kernelspec": {
   "display_name": "Python 3",
   "language": "python",
   "name": "python3"
  },
  "language_info": {
   "codemirror_mode": {
    "name": "ipython",
    "version": 3
   },
   "file_extension": ".py",
   "mimetype": "text/x-python",
   "name": "python",
   "nbconvert_exporter": "python",
   "pygments_lexer": "ipython3",
   "version": "3.8.8"
  }
 },
 "nbformat": 4,
 "nbformat_minor": 5
}

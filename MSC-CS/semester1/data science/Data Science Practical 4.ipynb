{
 "cells": [
  {
   "cell_type": "markdown",
   "id": "124b1fc5",
   "metadata": {},
   "source": [
    "# <center> Discrete Distribution </center>\n",
    "\n",
    "\n",
    "> A discrete probability distribution is the probability distribution of a random variable that can take on only a countable number of values. In the case where the range of values is countably infinite, these values have to decline to zero fast enough for the probabilities to add up to 1. Well-known discrete probability distributions used in statistical modeling include the Poisson distribution, the Bernoulli distribution, the binomial distribution, the geometric distribution, and the negative binomial distribution. Additionally, the discrete uniform distribution is commonly used in computer programs that make equal-probability random selections between a number of choices. \\- [Wikipedia](https://en.wikipedia.org/wiki/Probability_distribution)"
   ]
  },
  {
   "cell_type": "markdown",
   "id": "079c7302",
   "metadata": {},
   "source": [
    "### <center> Import required packages </center>"
   ]
  },
  {
   "cell_type": "code",
   "execution_count": 1,
   "id": "c70af5c8",
   "metadata": {},
   "outputs": [],
   "source": [
    "# for latex equations\n",
    "from IPython.display import Math, Latex\n",
    "# for displaying images\n",
    "from IPython.core.display import Image\n",
    "\n",
    "# import matplotlib, numpy and seaborn\n",
    "import matplotlib.pyplot as plt\n",
    "import numpy as np\n",
    "import seaborn as sns"
   ]
  },
  {
   "cell_type": "markdown",
   "id": "1633d8bd",
   "metadata": {},
   "source": [
    "### <center> Change some settings </center>"
   ]
  },
  {
   "cell_type": "code",
   "execution_count": 2,
   "id": "69499d73",
   "metadata": {},
   "outputs": [],
   "source": [
    "#for inline plots in Jupyter\n",
    "%matplotlib inline\n",
    "#settings for seaborn plotting style\n",
    "sns.set(color_codes = True)\n",
    "#settings for seaborn plot size\n",
    "sns.set(rc = {'figure.figsize':(5, 5)})"
   ]
  },
  {
   "cell_type": "markdown",
   "id": "1ddc2348",
   "metadata": {},
   "source": [
    "## <center> Uniform Distribution </center>\n",
    "\n",
    "\n",
    "> In probability theory and statistics, the discrete uniform distribution is a symmetric probability distribution wherein a finite number of values are equally likely to be observed; every one of n values has equal probability. Another way of saying \"discrete uniform distribution\" would be \"a known, finite number of outcomes equally likely to happen\" \\- [Wikipedia](https://en.wikipedia.org/wiki/Discrete_uniform_distribution)\n",
    "\n",
    "For a uniform distribution over the numbers a to b (both included), the Probability Mass function f(X = x) is\n",
    "$$f(X = x) = \n",
    "  \\begin {cases}\n",
    "  \\frac{1}{n}, &\\quad\\text{if x } \\in [a, b]\\\\\n",
    "  \\text{0}, &\\quad\\text{otherwise.}\n",
    "  \\end {cases}\n",
    "  $$\n",
    "\n",
    "where,\n",
    "$$\n",
    "n = b - a + 1 \\space \n",
    "\\text{and}\n",
    "\\space\n",
    "b \\gneq a\n",
    "$$"
   ]
  },
  {
   "cell_type": "code",
   "execution_count": 3,
   "id": "3b8b845a",
   "metadata": {},
   "outputs": [
    {
     "data": {
      "image/png": "[encoded data removed]",
      "text/plain": [
       "<Figure size 360x360 with 1 Axes>"
      ]
     },
     "metadata": {},
     "output_type": "display_data"
    }
   ],
   "source": [
    "from scipy.stats import randint\n",
    "fig, ax = plt.subplots(1, 1)\n",
    "#Calculate a few first moments\n",
    "low, high = 7, 32\n",
    "mean, vart, skew, kurt = randint.stats(low, high, moments = 'mvsk')\n",
    "#Display the pmf\n",
    "x = np.arange(randint.ppf(0.01, low, high), randint.ppf(0.99, low, high))\n",
    "ax.plot(x, randint.pmf(x, low, high), 'bo', ms = 8, label = \"randint pmf\")\n",
    "ax.vlines(x, 0, randint.pmf(x, low, high), colors = \"b\", lw = 5, alpha = 0.5)\n",
    "\n",
    "#Alternatively, the distribution object can be called (as a function) \n",
    "#to fix the shape and location. This returns a \"frozen\" RV object holding\n",
    "#The given parameters fixed\n",
    "\n",
    "#Freeze the distribution and display the frozen pmf\n",
    "\n",
    "rv = randint(low, high)\n",
    "ax.vlines(x, 0, rv.pmf(x), colors = \"k\", linestyles = \"-\", lw = 1, label = \"frozen pmf\")\n",
    "ax.legend(loc = \"best\", frameon = False)\n",
    "plt.show()\n",
    "\n",
    "#Check accuracy of cdf and ppf\n",
    "\n",
    "prob = randint.cdf(x, low, high)\n",
    "np.allclose(x, randint.ppf(prob, low, high))\n",
    "\n",
    "#Generate random numbers\n",
    "r = randint.rvs(low, high, size = 1000)"
   ]
  },
  {
   "cell_type": "markdown",
   "id": "e24a604f",
   "metadata": {},
   "source": [
    "## <center> Bernoulli  Distribution </center>\n",
    "\n",
    "\n",
    "> In probability theory and statistics, the Bernoulli distribution, named after Swiss mathematician Jacob Bernoulli, is the discrete probability distribution of a random variable which takes the value 1 with probability ***p*** and the value 0 with probability ***q*** = 1 - ***p***. Less formally, it can be thought of as a model for the set of possible outcomes of any single experiment that asks a yes–no question. \\- [Wikipedia](https://en.wikipedia.org/wiki/Bernoulli_distribution)\n",
    "\n",
    "\n",
    "The probability mass function ***f*** of this distribution, over possible outcomes X = x, is\n",
    "$$\n",
    "f(X = x) = \n",
    "\\begin {cases}\n",
    "  q = 1 - p, &\\quad\\text{if x = 0}\\\\\n",
    "  p, &\\quad\\text{if x = 1.}\n",
    "  \\end {cases}\n",
    "$$\n",
    "\n",
    "This can also be represented as\n",
    "$$f(X = x) = p^{x}(1 - p)^{1 - x} \\quad \\text{for x} \\in [0, 1]$$"
   ]
  },
  {
   "cell_type": "code",
   "execution_count": 4,
   "id": "b611cc09",
   "metadata": {},
   "outputs": [
    {
     "data": {
      "text/plain": [
       "<seaborn.axisgrid.FacetGrid at 0x21c1dd0f5e0>"
      ]
     },
     "execution_count": 4,
     "metadata": {},
     "output_type": "execute_result"
    },
    {
     "data": {
      "image/png": "[encoded data removed]",
      "text/plain": [
       "<Figure size 360x360 with 1 Axes>"
      ]
     },
     "metadata": {},
     "output_type": "display_data"
    }
   ],
   "source": [
    "from scipy.stats import bernoulli\n",
    "data_bern = bernoulli.rvs(size = 10000, p = 0.6)\n",
    "# ax = sns.distplot(data_bern, kde = False, color = \"khaki\", hist_kws = {'linewidth':15, 'alpha' : 1})\n",
    "ax = sns.displot(data_bern, kde = False, color = \"khaki\", alpha = 1, linewidth = 10)\n",
    "ax.set(xlabel = \"Bernoulli Distribution\", ylabel = \"Frequency\")"
   ]
  },
  {
   "cell_type": "markdown",
   "id": "398c81ce",
   "metadata": {},
   "source": [
    "## <center> Binomial Distribution </center>\n",
    "\n",
    "\n",
    "> In probability theory and statistics, the binomial distribution with parameters n and p is the discrete probability distribution of the number of successes in a sequence of n independent experiments, each asking a yes–no question, and each with its own Boolean-valued outcome: success (with probability p) or failure (with probability q = 1 − p). A single success/failure experiment is also called a Bernoulli trial or Bernoulli experiment, and a sequence of outcomes is called a Bernoulli process; for a single trial, i.e., n = 1, the binomial distribution is a Bernoulli distribution. \\- [Wikipedia](https://en.wikipedia.org/wiki/Binomial_distribution)\n",
    "\n",
    "\n",
    "The probability mass function for a binomial distribution with n independent experiments, p being the probability of success and q = 1 - p being the probability of failure is\n",
    "$$\n",
    "f(X = x) = \\binom {n}{x} \\cdot p^{x} q^{n - x}\n",
    "$$"
   ]
  },
  {
   "cell_type": "code",
   "execution_count": 5,
   "id": "f9ff1537",
   "metadata": {},
   "outputs": [
    {
     "data": {
      "text/plain": [
       "<seaborn.axisgrid.FacetGrid at 0x21c1de61be0>"
      ]
     },
     "execution_count": 5,
     "metadata": {},
     "output_type": "execute_result"
    },
    {
     "data": {
      "image/png": "[encoded data removed]",
      "text/plain": [
       "<Figure size 360x360 with 1 Axes>"
      ]
     },
     "metadata": {},
     "output_type": "display_data"
    }
   ],
   "source": [
    "from scipy.stats import binom\n",
    "data_binom = binom.rvs(n = 10, p = 0.8, size = 10000)\n",
    "# ax = sns.distplot(data_binom, kde = False, color = \"green\", hist_kws = {'linewidth':15, 'alpha' : 1})\n",
    "ax = sns.displot(data_binom, kde = False, color = \"green\", linewidth = 15, alpha = 1)\n",
    "ax.set(xlabel = \"Binomial Distribution\", ylabel = \"Frequency\")"
   ]
  },
  {
   "cell_type": "markdown",
   "id": "a895becd",
   "metadata": {},
   "source": [
    "## <center> Poisson Distribution </center>\n",
    "\n",
    "\n",
    "> In probability theory and statistics, the Poisson distribution, named after French mathematician Siméon Denis Poisson, is a discrete probability distribution that expresses the probability of a given number of events occurring in a fixed interval of time or space if these events occur with a known constant mean rate and independently of the time since the last event. \\- [Wikipedia](https://en.wikipedia.org/wiki/Poisson_distribution)\n",
    "\n",
    "\n",
    "The probability mass function for Poisson Distribution is:\n",
    "$$\n",
    "f(X = x) = \\frac{\\lambda^{x} e^{-\\lambda}}{x!}\n",
    "$$"
   ]
  },
  {
   "cell_type": "code",
   "execution_count": 6,
   "id": "f8c0bf0c",
   "metadata": {},
   "outputs": [
    {
     "data": {
      "text/plain": [
       "<seaborn.axisgrid.FacetGrid at 0x21c1deb3940>"
      ]
     },
     "execution_count": 6,
     "metadata": {},
     "output_type": "execute_result"
    },
    {
     "data": {
      "image/png": "[encoded data removed]",
      "text/plain": [
       "<Figure size 360x360 with 1 Axes>"
      ]
     },
     "metadata": {},
     "output_type": "display_data"
    }
   ],
   "source": [
    "from scipy.stats import poisson\n",
    "data_poisson = poisson.rvs(mu = 3, size = 10000)\n",
    "# ax = sns.distplot(data_poisson, bins = 30, kde = False, color = \"green\", hist_kws = {'linewidth':15, 'alpha' : 1})\n",
    "ax = sns.displot(data_poisson, bins = 30, kde = False, color = \"green\", linewidth= 15, alpha = 1)\n",
    "ax.set(xlabel = \"Poisson Distribution\", ylabel = \"Frequency\")"
   ]
  }
 ],
 "metadata": {
  "kernelspec": {
   "display_name": "Python 3",
   "language": "python",
   "name": "python3"
  },
  "language_info": {
   "codemirror_mode": {
    "name": "ipython",
    "version": 3
   },
   "file_extension": ".py",
   "mimetype": "text/x-python",
   "name": "python",
   "nbconvert_exporter": "python",
   "pygments_lexer": "ipython3",
   "version": "3.8.8"
  }
 },
 "nbformat": 4,
 "nbformat_minor": 5
}
